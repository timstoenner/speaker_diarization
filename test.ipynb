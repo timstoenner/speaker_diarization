{
 "metadata": {
  "language_info": {
   "codemirror_mode": {
    "name": "ipython",
    "version": 3
   },
   "file_extension": ".py",
   "mimetype": "text/x-python",
   "name": "python",
   "nbconvert_exporter": "python",
   "pygments_lexer": "ipython3",
   "version": "3.8.3-final"
  },
  "orig_nbformat": 2,
  "kernelspec": {
   "name": "fourthb_1",
   "display_name": "Python (fourthb_1)",
   "language": "python"
  }
 },
 "nbformat": 4,
 "nbformat_minor": 2,
 "cells": [
  {
   "cell_type": "code",
   "execution_count": 1,
   "metadata": {},
   "outputs": [],
   "source": [
    "%%capture\n",
    "!pip install -q pyannote.audio==1.1\n",
    "!pip install ffmpeg\n",
    "!pip install --upgrade AudioConverter"
   ]
  },
  {
   "cell_type": "code",
   "execution_count": 2,
   "metadata": {},
   "outputs": [],
   "source": [
    "%%capture\n",
    "from diarization import *"
   ]
  },
  {
   "cell_type": "code",
   "execution_count": 3,
   "metadata": {},
   "outputs": [],
   "source": [
    "# test file for diarization\n",
    "file = 'eziem.wav'"
   ]
  },
  {
   "cell_type": "code",
   "execution_count": 4,
   "metadata": {},
   "outputs": [],
   "source": [
    "%%capture\n",
    "diar_df, highlights_list, words_df, confidence, text = diarize(file)"
   ]
  },
  {
   "cell_type": "code",
   "execution_count": 6,
   "metadata": {},
   "outputs": [
    {
     "output_type": "execute_result",
     "data": {
      "text/plain": [
       "   Speaker                                          Sentences       Start  \\\n",
       "0        B  You will remain. Just be hearing a Yes or no a...    0.411781   \n",
       "1        A                                                      22.747531   \n",
       "2        B  me this report into whether or not there was R...   23.267281   \n",
       "3        A  interference or any kind of. There is absolute...   25.925094   \n",
       "4        C  you speak about Muslim women in particular and...   44.362719   \n",
       "5        A  having an inquiry into all in Islamophobia and...   85.230594   \n",
       "6        B  Labor has become the second political party of...   91.874281   \n",
       "7        C                                               what  108.889344   \n",
       "8        B  do you say to your former live on voter here a...  113.987281   \n",
       "9        C             that is undemocratic from somebody who  123.167281   \n",
       "10       B  wishes the last three and a half years had nev...  126.586156   \n",
       "11       C                                a people's vote for  131.589594   \n",
       "12       B  three and a half years, but you're not now on ...  132.568344   \n",
       "13       C  Parliament, we put down amendments to try to s...  139.259281   \n",
       "14       B  envisage being in a coalition government with ...  153.392094   \n",
       "15       C    I don't think it should surprise people to hear  163.297719   \n",
       "16       B  me say that I would ask him to respect the rig...  165.855969   \n",
       "\n",
       "           End  Talk_Time  \n",
       "0    22.431969  22.020188  \n",
       "1    23.267281   0.519750  \n",
       "2    25.764781   2.497500  \n",
       "3    44.362719  18.437625  \n",
       "4    83.391219  39.028500  \n",
       "5    91.874281   6.643687  \n",
       "6   107.886969  16.012687  \n",
       "7   108.943344   0.054000  \n",
       "8   123.167281   9.180000  \n",
       "9   126.329656   3.162375  \n",
       "10  131.240281   4.654125  \n",
       "11  132.423219   0.833625  \n",
       "12  138.780031   6.211687  \n",
       "13  153.392094  14.132812  \n",
       "14  163.297719   9.905625  \n",
       "15  165.692281   2.394562  \n",
       "16  174.819969   8.964000  "
      ],
      "text/html": "<div>\n<style scoped>\n    .dataframe tbody tr th:only-of-type {\n        vertical-align: middle;\n    }\n\n    .dataframe tbody tr th {\n        vertical-align: top;\n    }\n\n    .dataframe thead th {\n        text-align: right;\n    }\n</style>\n<table border=\"1\" class=\"dataframe\">\n  <thead>\n    <tr style=\"text-align: right;\">\n      <th></th>\n      <th>Speaker</th>\n      <th>Sentences</th>\n      <th>Start</th>\n      <th>End</th>\n      <th>Talk_Time</th>\n    </tr>\n  </thead>\n  <tbody>\n    <tr>\n      <th>0</th>\n      <td>B</td>\n      <td>You will remain. Just be hearing a Yes or no a...</td>\n      <td>0.411781</td>\n      <td>22.431969</td>\n      <td>22.020188</td>\n    </tr>\n    <tr>\n      <th>1</th>\n      <td>A</td>\n      <td></td>\n      <td>22.747531</td>\n      <td>23.267281</td>\n      <td>0.519750</td>\n    </tr>\n    <tr>\n      <th>2</th>\n      <td>B</td>\n      <td>me this report into whether or not there was R...</td>\n      <td>23.267281</td>\n      <td>25.764781</td>\n      <td>2.497500</td>\n    </tr>\n    <tr>\n      <th>3</th>\n      <td>A</td>\n      <td>interference or any kind of. There is absolute...</td>\n      <td>25.925094</td>\n      <td>44.362719</td>\n      <td>18.437625</td>\n    </tr>\n    <tr>\n      <th>4</th>\n      <td>C</td>\n      <td>you speak about Muslim women in particular and...</td>\n      <td>44.362719</td>\n      <td>83.391219</td>\n      <td>39.028500</td>\n    </tr>\n    <tr>\n      <th>5</th>\n      <td>A</td>\n      <td>having an inquiry into all in Islamophobia and...</td>\n      <td>85.230594</td>\n      <td>91.874281</td>\n      <td>6.643687</td>\n    </tr>\n    <tr>\n      <th>6</th>\n      <td>B</td>\n      <td>Labor has become the second political party of...</td>\n      <td>91.874281</td>\n      <td>107.886969</td>\n      <td>16.012687</td>\n    </tr>\n    <tr>\n      <th>7</th>\n      <td>C</td>\n      <td>what</td>\n      <td>108.889344</td>\n      <td>108.943344</td>\n      <td>0.054000</td>\n    </tr>\n    <tr>\n      <th>8</th>\n      <td>B</td>\n      <td>do you say to your former live on voter here a...</td>\n      <td>113.987281</td>\n      <td>123.167281</td>\n      <td>9.180000</td>\n    </tr>\n    <tr>\n      <th>9</th>\n      <td>C</td>\n      <td>that is undemocratic from somebody who</td>\n      <td>123.167281</td>\n      <td>126.329656</td>\n      <td>3.162375</td>\n    </tr>\n    <tr>\n      <th>10</th>\n      <td>B</td>\n      <td>wishes the last three and a half years had nev...</td>\n      <td>126.586156</td>\n      <td>131.240281</td>\n      <td>4.654125</td>\n    </tr>\n    <tr>\n      <th>11</th>\n      <td>C</td>\n      <td>a people's vote for</td>\n      <td>131.589594</td>\n      <td>132.423219</td>\n      <td>0.833625</td>\n    </tr>\n    <tr>\n      <th>12</th>\n      <td>B</td>\n      <td>three and a half years, but you're not now on ...</td>\n      <td>132.568344</td>\n      <td>138.780031</td>\n      <td>6.211687</td>\n    </tr>\n    <tr>\n      <th>13</th>\n      <td>C</td>\n      <td>Parliament, we put down amendments to try to s...</td>\n      <td>139.259281</td>\n      <td>153.392094</td>\n      <td>14.132812</td>\n    </tr>\n    <tr>\n      <th>14</th>\n      <td>B</td>\n      <td>envisage being in a coalition government with ...</td>\n      <td>153.392094</td>\n      <td>163.297719</td>\n      <td>9.905625</td>\n    </tr>\n    <tr>\n      <th>15</th>\n      <td>C</td>\n      <td>I don't think it should surprise people to hear</td>\n      <td>163.297719</td>\n      <td>165.692281</td>\n      <td>2.394562</td>\n    </tr>\n    <tr>\n      <th>16</th>\n      <td>B</td>\n      <td>me say that I would ask him to respect the rig...</td>\n      <td>165.855969</td>\n      <td>174.819969</td>\n      <td>8.964000</td>\n    </tr>\n  </tbody>\n</table>\n</div>"
     },
     "metadata": {},
     "execution_count": 6
    }
   ],
   "source": [
    "diar_df"
   ]
  },
  {
   "cell_type": "code",
   "execution_count": 7,
   "metadata": {},
   "outputs": [
    {
     "output_type": "execute_result",
     "data": {
      "text/plain": [
       "\"You will remain. Just be hearing a Yes or no answer. You're telling tonight you will remain neutral on the issue of whether or not we should remain within the first heard here on cross question. Mr Corbyn. Thank you very much indeed the question, when will you release the Russian report? Let me this report into whether or not there was Russian interference or any kind of. There is absolute no evidence to someone else to show any interference in the lyric electoral event. This is real. I'm sorry to say with great respect. So this is a complete Bermuda triangle stuff. I think the way that you speak about Muslim women in particular and the way that you've spoken about rest in the past is completely characteristic of the way your government has dealt with all the issues that's coming across since 2,010 it's been characterized by complete carelessness by carelessness where you treated people through the DWP where you've treated the victims of Grenfell the hostile environment because completely well, you say you visited hospitals when you've spoken to public service workers, but I think you yourself know you haven't been welcome when you've been defeat to them. I think it's completely insulting for for you to stand there and talk about all the investment you're going to bring when it's your stority policies that have brought to you having an inquiry into all in Islamophobia and all types of prejudice in the conservative party. Of course we will do that. Labor has become the second political party of the BNP to be invested by the equality and human rights Commission. How do you feel to be in that kind of company? It's our process that is being looked at and I'm very happy about that. We've laid ourselves completely open to it. Joe is what do you say to your former live on voter here and you know, revote, you're not saying we'll go back to the people. You are unilaterally saying, revoke it that is undemocratic from somebody who wishes the last three and a half years had never happened. You have been leading the fight for a people's vote for three and a half years, but you're not now on the line for revoking Oscar 50 17 times in Parliament, we put down amendments to try to secure a people's vote. If Jeremy Corbyn and the Labor party had backed that with sincerity, then we might be having a people's vote right now instead of a general election. I don't envisage being in a coalition government with labor. I think it would be a less formal arrangement than that if we're in that situation. If Jeremy Corbyn wants the support of the SNP, I don't think it should surprise people to hear me say that I would ask him to respect the right of the people ple have gotten to choose their own future. And I don't think he turn his bike when ending austerity in order to block that rate.\""
      ]
     },
     "metadata": {},
     "execution_count": 7
    }
   ],
   "source": [
    "text"
   ]
  },
  {
   "cell_type": "code",
   "execution_count": 8,
   "metadata": {},
   "outputs": [
    {
     "output_type": "execute_result",
     "data": {
      "text/plain": [
       "['people',\n",
       " 'Jeremy Corbyn',\n",
       " 'complete carelessness',\n",
       " 'Russian interference',\n",
       " 'human rights Commission',\n",
       " 'Mr Corbyn',\n",
       " 'public service workers',\n",
       " 'Muslim women',\n",
       " 'complete Bermuda triangle stuff',\n",
       " 'great respect',\n",
       " 'Grenfell',\n",
       " 'second political party',\n",
       " 'order',\n",
       " 'cross question',\n",
       " 'Oscar']"
      ]
     },
     "metadata": {},
     "execution_count": 8
    }
   ],
   "source": [
    "highlights_list"
   ]
  },
  {
   "cell_type": "code",
   "execution_count": 7,
   "metadata": {},
   "outputs": [],
   "source": [
    "# diar_df.to_csv('test.csv')"
   ]
  }
 ]
}